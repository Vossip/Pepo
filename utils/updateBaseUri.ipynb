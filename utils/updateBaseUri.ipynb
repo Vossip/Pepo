{
 "cells": [
  {
   "cell_type": "code",
   "execution_count": 1,
   "source": [
    "from pathlib import Path\n",
    "import os\n",
    "\n",
    "src = '/Users/villem-oskarossip/Projects/Boyz/boyz_engine/build/json/'\n",
    "\n",
    "files = os.listdir(src)\n",
    "\n",
    "for fname in files:\n",
    "    # Read in the file\n",
    "    with open(src+fname, 'r') as file :\n",
    "        filedata = file.read()\n",
    "\n",
    "    # Replace the target string\n",
    "    filedata = filedata.replace('Boyz', 'Chads')\n",
    "\n",
    "    # Write the file out again\n",
    "    with open(src+fname, 'w') as file:\n",
    "        file.write(filedata)"
   ],
   "outputs": [],
   "metadata": {}
  },
  {
   "cell_type": "code",
   "execution_count": null,
   "source": [],
   "outputs": [],
   "metadata": {}
  }
 ],
 "metadata": {
  "interpreter": {
   "hash": "aee8b7b246df8f9039afb4144a1f6fd8d2ca17a180786b69acc140d282b71a49"
  },
  "kernelspec": {
   "name": "python3",
   "display_name": "Python 3.9.7 64-bit"
  },
  "language_info": {
   "codemirror_mode": {
    "name": "ipython",
    "version": 3
   },
   "file_extension": ".py",
   "mimetype": "text/x-python",
   "name": "python",
   "nbconvert_exporter": "python",
   "pygments_lexer": "ipython3",
   "version": "3.9.7"
  },
  "orig_nbformat": 4
 },
 "nbformat": 4,
 "nbformat_minor": 2
}